{
 "cells": [
  {
   "cell_type": "markdown",
   "metadata": {},
   "source": [
    "# PTT 網路爬蟲實作練習\n",
    "\n",
    "\n",
    "* 能夠利用 Request + BeatifulSour 撰寫爬蟲，並存放到合適的資料結構\n"
   ]
  },
  {
   "cell_type": "markdown",
   "metadata": {},
   "source": [
    "## 作業目標\n",
    "\n",
    "根據範例 ，完成以下問題：\n",
    "\n",
    "* ① 印出最新文章的「作者」「標題」「時間」\n",
    "* ② 印出第一頁所有文章的「作者」「標題」「時間」\n"
   ]
  },
  {
   "cell_type": "code",
   "execution_count": 17,
   "metadata": {},
   "outputs": [],
   "source": [
    "import requests\n",
    "from bs4 import BeautifulSoup\n",
    "\n",
    "url = 'https://www.ptt.cc/bbs/NBA/index.html'\n",
    "r = requests.get(url)\n",
    "\n",
    "soup = BeautifulSoup(r.text, \"html5lib\")"
   ]
  },
  {
   "cell_type": "markdown",
   "metadata": {},
   "source": [
    "### ① 印出最新文章的「作者」「標題」「時間」"
   ]
  },
  {
   "cell_type": "code",
   "execution_count": 33,
   "metadata": {},
   "outputs": [
    {
     "data": {
      "text/plain": [
       "{'Title': 'Re: [討論] 最適合西門的戰術是一皇四射嗎',\n",
       " 'Author': 'joulin (joulin)',\n",
       " 'Time': 'Sun Jan 26 19:30:07 2020'}"
      ]
     },
     "execution_count": 33,
     "metadata": {},
     "output_type": "execute_result"
    }
   ],
   "source": [
    "'''\n",
    "Your Code\n",
    "'''\n",
    "posts = []\n",
    "for ATT2 in soup.find_all(class_=\"title\"):\n",
    "    post = {}\n",
    "    title = ATT2.text.replace('\\t', '').replace('\\n', '')\n",
    "    #print(title)\n",
    "    # 遇到文章被刪除需要使用 try & except方式避免錯誤\n",
    "    try:\n",
    "        # 進入文章抓資料\n",
    "        temp = BeautifulSoup(requests.get('https://www.ptt.cc'+ATT2.find('a')['href']).text, \"html5lib\")\n",
    "        #print(temp)\n",
    "        author = temp.find(class_ = 'article-meta-value').text\n",
    "        #print(author)\n",
    "        posttime = temp.find_all(class_ = 'article-meta-value')[-1].text\n",
    "        #print(posttime)\n",
    "        #print(f'{title}\\nAuthor:{author}\\tTime:{posttime}')\n",
    "    except:\n",
    "        continue\n",
    "    post['Title'] = title\n",
    "    post['Author'] = author\n",
    "    post['Time'] = posttime\n",
    "    posts.append(post)\n",
    "    #print('='*100)\n",
    "\n",
    "posts = sorted(posts, key= lambda x: x['Time'])\n",
    "posts[-1]\n"
   ]
  },
  {
   "cell_type": "markdown",
   "metadata": {},
   "source": [
    "### ② 印出第一頁所有文章的「作者」「標題」「時間」"
   ]
  },
  {
   "cell_type": "code",
   "execution_count": 18,
   "metadata": {},
   "outputs": [
    {
     "name": "stdout",
     "output_type": "stream",
     "text": [
      "(本文已被刪除) [namie810303]\n",
      "Author:-\tTime: 1/26\n",
      "====================================================================================================\n",
      "[情報] LBJ：08年奧運會與Kobe同隊讓我夢想成真\n",
      "Author:Yui5\tTime: 1/26\n",
      "====================================================================================================\n",
      "[新聞] NBA獨厚進攻 格林嗆沒人愛看\n",
      "Author:go190214\tTime: 1/26\n",
      "====================================================================================================\n",
      "[討論] 西門不投三分 令人感動吧\n",
      "Author:torg795587\tTime: 1/26\n",
      "====================================================================================================\n",
      "[討論] 最適合西門的戰術是一皇四射嗎\n",
      "Author:x851221\tTime: 1/26\n",
      "====================================================================================================\n",
      "[新聞] 甜瓜重生關鍵殺手　魔獸超高效完成救贖\n",
      "Author:la1aco\tTime: 1/26\n",
      "====================================================================================================\n",
      "Re: [討論] 最適合西門的戰術是一皇四射嗎\n",
      "Author:joulin\tTime: 1/26\n",
      "====================================================================================================\n",
      "[公告] 板規v6.8\n",
      "Author:Vedan\tTime: 5/24\n",
      "====================================================================================================\n",
      "[公告] 樂透取消及未來不再開啟樂透\n",
      "Author:Vedan\tTime: 6/24\n",
      "====================================================================================================\n",
      "[公告] 版主上任相關事項 \n",
      "Author:qazwsx879345\tTime:10/25\n",
      "====================================================================================================\n",
      "[情報] SEASON Schedule 賽程 January 19–20\n",
      "Author:Acetoxy\tTime: 1/03\n",
      "====================================================================================================\n"
     ]
    }
   ],
   "source": [
    "'''\n",
    "Your Code\n",
    "'''\n",
    "for ATT in soup.find_all(class_=\"r-ent\"):\n",
    "    #print(ATT)\n",
    "    #print('*'*100)\n",
    "    author = ATT.find(class_ = 'author').text.replace('\\t', '').replace('\\n', '')\n",
    "    title = ATT.find(class_ = 'title').text.replace('\\t', '').replace('\\n', '')\n",
    "    posttime = ATT.find(class_ = 'date').text.replace('\\t', '').replace('\\n', '')\n",
    "    #print(f'Author : {author}\\nTitle : {title}\\nTime : {posttime}')\n",
    "    print(f'{title}\\nAuthor:{author}\\tTime:{posttime}')\n",
    "    print('='*100)"
   ]
  },
  {
   "cell_type": "markdown",
   "metadata": {},
   "source": [
    "### ③ 試著爬爬看其他版的文章"
   ]
  },
  {
   "cell_type": "code",
   "execution_count": 16,
   "metadata": {},
   "outputs": [
    {
     "name": "stdout",
     "output_type": "stream",
     "text": [
      "[新聞] 桌球王林昀儒 淡定看輸贏 做自己就好！\n",
      "Author:sony577\tTime: 1/22\n",
      "====================================================================================================\n",
      "[新聞] 東京奧運世界團體資格賽明登場 \n",
      "Author:marra\tTime: 1/22\n",
      "====================================================================================================\n",
      "[新聞] 早田打對手11-0 劉詩雯改變她的想法\n",
      "Author:zkow\tTime: 1/22\n",
      "====================================================================================================\n",
      "[心得]  Butterfly 超級張繼科第二把開箱\n",
      "Author:LeeChongWei\tTime: 1/22\n",
      "====================================================================================================\n",
      "[問題] 台中過年期間有開的球館\n",
      "Author:afhe\tTime: 1/22\n",
      "====================================================================================================\n",
      "[影片] 蛇\n",
      "Author:ichieh1\tTime: 1/22\n",
      "====================================================================================================\n",
      "[問題]台中今天有開的桌球用品店\n",
      "Author:miniminigod\tTime: 1/23\n",
      "====================================================================================================\n",
      "[買賣] 二手拍皮\n",
      "Author:asurada29\tTime: 1/24\n",
      "====================================================================================================\n",
      "[問題] 高雄過年有開的球館\n",
      "Author:jannine\tTime: 1/24\n",
      "====================================================================================================\n",
      "[揪人] 嘉義/民雄或嘉義市/除夕至初三/練球\n",
      "Author:smallcock\tTime: 1/24\n",
      "====================================================================================================\n",
      "[問題] 請問星期六25日台中球館有開的?\n",
      "Author:kinghsiao\tTime: 1/24\n",
      "====================================================================================================\n",
      "[新聞] 深藏不露！政院發言人Kolas秀桌球殺球美\n",
      "Author:willyou01\tTime: 1/24\n",
      "====================================================================================================\n",
      "[徵文] 那位桌球選手教不會我的事\n",
      "Author:shwmagic\tTime: 1/24\n",
      "====================================================================================================\n",
      "[新聞] 東奧》男桌勝波蘭獲3張門票 莊智淵進奧運\n",
      "Author:sincsnow\tTime: 1/25\n",
      "====================================================================================================\n",
      "宜蘭過年哪邊可以打球？\n",
      "Author:cloudebear\tTime: 1/25\n",
      "====================================================================================================\n",
      "[新聞] 桌球男團傳捷報 東京奧運取得7項滿額參\n",
      "Author:ichieh1\tTime: 1/25\n",
      "====================================================================================================\n",
      "[揪人] 台北/不拘/假日上下午/球友\n",
      "Author:alanaudi\tTime: 1/26\n",
      "====================================================================================================\n",
      "[場地] 台灣打桌球地圖&台灣桌球比賽及活動地圖\n",
      "Author:allen8660735\tTime: 3/27\n",
      "====================================================================================================\n",
      "[公告] 桌球版版規\n",
      "Author:seagle\tTime:11/15\n",
      "====================================================================================================\n",
      "[資訊] 乒聯2020賽季主要賽事日程\n",
      "Author:nittakutsp\tTime:12/19\n",
      "====================================================================================================\n",
      "[公告] 1/24春節徵文活動 1萬P幣等你拿\n",
      "Author:thomas0312\tTime: 1/19\n",
      "====================================================================================================\n",
      "[Live] 東奧團體資格賽 1/22-26 \n",
      "Author:nittakutsp\tTime: 1/20\n",
      "====================================================================================================\n"
     ]
    }
   ],
   "source": [
    "'''\n",
    "Your Code\n",
    "'''\n",
    "    \n",
    "url_tt = 'https://www.ptt.cc/bbs/tabletennis/index.html'\n",
    "r_tt = requests.get(url_tt)\n",
    "\n",
    "soup_tt = BeautifulSoup(r_tt.text, \"html5lib\")\n",
    "\n",
    "for ATT in soup_tt.find_all(class_=\"r-ent\"):\n",
    "    #print(ATT)\n",
    "    #print('*'*100)\n",
    "    author = ATT.find(class_ = 'author').text.replace('\\t', '').replace('\\n', '')\n",
    "    title = ATT.find(class_ = 'title').text.replace('\\t', '').replace('\\n', '')\n",
    "    posttime = ATT.find(class_ = 'date').text.replace('\\t', '').replace('\\n', '')\n",
    "    #print(f'Author : {author}\\nTitle : {title}\\nTime : {posttime}')\n",
    "    print(f'{title}\\nAuthor:{author}\\tTime:{posttime}')\n",
    "    print('='*100)"
   ]
  }
 ],
 "metadata": {
  "kernelspec": {
   "display_name": "Python 3",
   "language": "python",
   "name": "python3"
  },
  "language_info": {
   "codemirror_mode": {
    "name": "ipython",
    "version": 3
   },
   "file_extension": ".py",
   "mimetype": "text/x-python",
   "name": "python",
   "nbconvert_exporter": "python",
   "pygments_lexer": "ipython3",
   "version": "3.6.5"
  }
 },
 "nbformat": 4,
 "nbformat_minor": 2
}
