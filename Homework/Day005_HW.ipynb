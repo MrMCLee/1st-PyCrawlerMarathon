{
 "cells": [
  {
   "cell_type": "markdown",
   "metadata": {},
   "source": [
    "# API 資料串接 - 以 Dcard API 實作範例\n",
    "\n",
    "* 了解 Dcard API 使用方式與回傳內容\n",
    "* 撰寫程式存取 API 且解析 JSON 格式資料\n"
   ]
  },
  {
   "cell_type": "markdown",
   "metadata": {},
   "source": [
    "## 作業目標\n",
    "\n",
    "* 請利用 API: https://www.dcard.tw/_api/forums/pet/posts?popular=true 回答下列問題：\n",
    "\n",
    "1. 這個 API 一次會回傳幾筆資料？每一筆資料包含哪些欄位？\n",
    "2. 取出每一筆資料的「標題」、「貼文時間」、「留言人數」、「按讚人數」\n",
    "3. 計算熱門/非熱門文章的「平均留言人數」與「平均按讚人數」"
   ]
  },
  {
   "cell_type": "code",
   "execution_count": 3,
   "metadata": {},
   "outputs": [
    {
     "name": "stdout",
     "output_type": "stream",
     "text": [
      "30 <class 'list'>\n",
      "----------------------------------------------------------------------------------------------------\n",
      "32 <class 'dict'>\n",
      "----------------------------------------------------------------------------------------------------\n",
      "dict_keys(['id', 'title', 'excerpt', 'anonymousSchool', 'anonymousDepartment', 'pinned', 'forumId', 'replyId', 'createdAt', 'updatedAt', 'commentCount', 'likeCount', 'withNickname', 'tags', 'topics', 'meta', 'forumName', 'forumAlias', 'gender', 'school', 'replyTitle', 'mediaMeta', 'reactions', 'hidden', 'customStyle', 'isSuspiciousAccount', 'layout', 'withImages', 'withVideos', 'media', 'reportReasonText', 'postAvatar'])\n",
      "----------------------------------------------------------------------------------------------------\n",
      "{'id': 232710330, 'title': '限時～同學你的貓綁架我了', 'excerpt': '同學你的貓綁架我的心了 他太無辜太可愛了 想看更多照片～～還有他的名字', 'anonymousSchool': False, 'anonymousDepartment': True, 'pinned': False, 'forumId': '7ee21581-1307-4ba9-b9dc-82028bdcca49', 'replyId': None, 'createdAt': '2019-12-18T07:14:00.442Z', 'updatedAt': '2019-12-18T07:14:52.952Z', 'commentCount': 88, 'likeCount': 3773, 'withNickname': False, 'tags': [], 'topics': ['同學', '貓', '綁架', '可愛'], 'meta': {'layout': 'classic'}, 'forumName': '寵物', 'forumAlias': 'pet', 'gender': 'F', 'school': '靜宜大學', 'replyTitle': None, 'mediaMeta': [{'id': 'de11d6ce-2c47-4434-ab2a-393f83e19df6', 'url': 'https://i.imgur.com/XPe5AmKl.jpg', 'normalizedUrl': 'https://i.imgur.com/XPe5AmKl.jpg', 'thumbnail': 'https://i.imgur.com/XPe5AmKl.jpg', 'type': 'image/thumbnail', 'tags': ['ANNOTATED'], 'createdAt': '2019-12-18T07:14:00.442Z', 'updatedAt': '2019-12-18T07:14:52.952Z'}, {'id': 'de11d6ce-2c47-4434-ab2a-393f83e19df6', 'url': 'https://i.imgur.com/XPe5AmK.jpg', 'normalizedUrl': 'https://imgur.com/XPe5AmK', 'thumbnail': 'https://i.imgur.com/XPe5AmKl.jpg', 'type': 'image/imgur', 'tags': ['ANNOTATED'], 'createdAt': '2019-12-18T07:14:00.442Z', 'updatedAt': '2019-12-18T07:14:52.952Z'}], 'reactions': [{'id': '286f599c-f86a-4932-82f0-f5a06f1eca03', 'count': 3741}, {'id': 'e8e6bc5d-41b0-4129-b134-97507523d7ff', 'count': 30}, {'id': '4b018f48-e184-445f-adf1-fc8e04ba09b9', 'count': 2}], 'hidden': False, 'customStyle': None, 'isSuspiciousAccount': False, 'layout': 'classic', 'withImages': True, 'withVideos': False, 'media': [{'url': 'https://i.imgur.com/XPe5AmK.jpg'}], 'reportReasonText': '', 'postAvatar': ''}\n"
     ]
    }
   ],
   "source": [
    "# 1. 這個 API 一次會回傳幾筆資料？每一筆資料包含哪些欄位？\n",
    "\n",
    "'''\n",
    "Your Code\n",
    "'''\n",
    "import requests\n",
    "import json\n",
    "\n",
    "r = requests.get('https://www.dcard.tw/_api/forums/pet/posts?popular=true')\n",
    "response = r.text\n",
    "\n",
    "data = json.loads(response)\n",
    "print(len(data), type(data))\n",
    "print('-'*100)\n",
    "print(len(data[0]), type(data[0]))\n",
    "print('-'*100)\n",
    "print(data[0].keys())\n",
    "print('-'*100)\n",
    "print(data[0])"
   ]
  },
  {
   "cell_type": "code",
   "execution_count": 15,
   "metadata": {},
   "outputs": [
    {
     "name": "stdout",
     "output_type": "stream",
     "text": [
      "限時～同學你的貓綁架我了\t,2019-12-18T07:14:52.952Z\t,88\t,3773\t\n",
      "為什麼讓別人覺得我虐待妳？（再更～\t,2019-12-19T12:16:28.295Z\t,76\t,3157\t\n",
      "忘記收回舌頭的一瞬間❤️(更\t,2019-12-19T12:06:59.250Z\t,98\t,2897\t\n",
      "半夜上廁所被溫暖了\t,2019-12-18T08:57:06.411Z\t,24\t,2389\t\n",
      "罐罐愛好者\t,2019-12-18T01:26:31.004Z\t,4\t,1068\t\n",
      "沒想到我也會被詐騙集團騙\t,2019-12-19T10:45:47.497Z\t,28\t,1043\t\n",
      "狗狗🐶走失了已經8天了#新竹\t,2019-12-18T11:06:31.514Z\t,6\t,123\t\n",
      "#圖 關於橘貓天賦\t,2019-12-19T03:49:19.594Z\t,11\t,108\t\n",
      "剪頭髮變成貓奴\t,2019-12-18T01:46:35.408Z\t,5\t,84\t\n",
      "「我的裙子跑出一隻松鼠！」\t,2019-12-19T09:58:57.148Z\t,17\t,74\t\n",
      "原來我的腳這麼好吃\t,2019-12-18T10:11:00.248Z\t,5\t,70\t\n",
      "（尋主人）東海大學撿到灰色倉鼠\t,2019-12-18T13:36:47.175Z\t,10\t,56\t\n",
      "鈴鐺球怎麼玩？\t,2019-12-18T06:30:49.894Z\t,5\t,48\t\n",
      "日光香雞腿\t,2019-12-19T09:07:50.700Z\t,3\t,42\t\n",
      "北京限狗令 大量狗遭安樂死 悶死 打死\t,2019-12-19T02:31:20.787Z\t,8\t,38\t\n",
      "養貓新手：貓可以喝牛奶嗎？\t,2019-12-19T12:06:43.692Z\t,11\t,32\t\n",
      "#圖 蝙蝠俠還是鞋貓\t,2019-12-19T12:07:08.376Z\t,4\t,27\t\n",
      "什麼人養什麼鼠(⁎⁍̴̛ᴗ⁍̴̛⁎)\t,2019-12-18T01:43:41.966Z\t,6\t,27\t\n",
      "手機亂放的後果⋯\t,2019-12-19T08:10:19.198Z\t,1\t,26\t\n",
      "被鯊鯊嚇到了\t,2019-12-19T01:29:07.211Z\t,1\t,26\t\n",
      "黃金鼠有夠兇\t,2019-12-19T06:16:08.019Z\t,6\t,25\t\n",
      "很適合做迷因的貓貓\t,2019-12-19T01:52:43.480Z\t,1\t,24\t\n",
      "*更（文長）黃金鼠冬眠假死？\t,2019-12-19T06:06:17.736Z\t,8\t,24\t\n",
      "希望我的貓不會對氣麻過敏\t,2019-12-18T04:46:56.211Z\t,0\t,24\t\n",
      "長得有點倒霉的貓🐱\t,2019-12-18T03:25:43.131Z\t,0\t,23\t\n",
      "／文很長／全口拔牙-貓咪嗜酸性口炎治療\t,2019-12-18T10:06:31.084Z\t,2\t,20\t\n",
      "我也想看你們的🐶🐱\t,2019-12-18T06:32:19.907Z\t,9\t,18\t\n",
      "我來了我來了\t,2019-12-19T09:59:26.763Z\t,2\t,16\t\n",
      "同學請停止你的動作\t,2019-12-18T15:46:59.862Z\t,0\t,16\t\n",
      "貓飼料品牌分享：莫比/紐頓/原點\t,2019-12-19T12:07:39.860Z\t,7\t,15\t\n"
     ]
    }
   ],
   "source": [
    "# 2. 取出每一筆資料的「標題」、「貼文時間」、「留言人數」、「按讚人數」\n",
    "\n",
    "'''\n",
    "Your Code\n",
    "'''\n",
    "for database in data:\n",
    "    print(\"%s\\t,%s\\t,%s\\t,%s\\t\" %(database['title'], database['updatedAt'], database['commentCount'], database['likeCount']))"
   ]
  },
  {
   "cell_type": "code",
   "execution_count": 25,
   "metadata": {},
   "outputs": [
    {
     "name": "stdout",
     "output_type": "stream",
     "text": [
      "Avg Comment Count = 15.9\n",
      "Avg Like Count = 508.73333333333335\n"
     ]
    }
   ],
   "source": [
    "# 3. 計算熱門/非熱門文章的「平均留言人數」與「平均按讚人數」\n",
    "\n",
    "'''\n",
    "Your Code\n",
    "'''\n",
    "def popular():\n",
    "    r = requests.get('https://www.dcard.tw/_api/forums/pet/posts?popular=true')\n",
    "    response = r.text\n",
    "    data = json.loads(response)\n",
    "    totalcommentCount=0\n",
    "    totallikeCount=0\n",
    "    totallen = len(data)\n",
    "    for database in data:\n",
    "        totalcommentCount += int(database['commentCount'])\n",
    "        totallikeCount += int(database['likeCount'])\n",
    "        \n",
    "    print(f'Avg Comment Count = {totalcommentCount/totallen}\\n'\n",
    "          f'Avg Like Count = {totallikeCount/totallen}')\n",
    "\n",
    "popular()"
   ]
  },
  {
   "cell_type": "code",
   "execution_count": 26,
   "metadata": {},
   "outputs": [
    {
     "name": "stdout",
     "output_type": "stream",
     "text": [
      "Avg Comment Count = 3.5\n",
      "Avg Like Count = 10.9\n"
     ]
    }
   ],
   "source": [
    "def nonpopular():\n",
    "    r = requests.get('https://www.dcard.tw/_api/forums/pet/posts?popular=false')\n",
    "    response = r.text\n",
    "    data = json.loads(response)\n",
    "    totalcommentCount=0\n",
    "    totallikeCount=0\n",
    "    totallen = len(data)\n",
    "    for database in data:\n",
    "        totalcommentCount += int(database['commentCount'])\n",
    "        totallikeCount += int(database['likeCount'])\n",
    "        \n",
    "    print(f'Avg Comment Count = {totalcommentCount/totallen}\\n'\n",
    "          f'Avg Like Count = {totallikeCount/totallen}')\n",
    "\n",
    "nonpopular()"
   ]
  },
  {
   "cell_type": "code",
   "execution_count": null,
   "metadata": {},
   "outputs": [],
   "source": []
  }
 ],
 "metadata": {
  "kernelspec": {
   "display_name": "Python 3",
   "language": "python",
   "name": "python3"
  },
  "language_info": {
   "codemirror_mode": {
    "name": "ipython",
    "version": 3
   },
   "file_extension": ".py",
   "mimetype": "text/x-python",
   "name": "python",
   "nbconvert_exporter": "python",
   "pygments_lexer": "ipython3",
   "version": "3.7.4"
  }
 },
 "nbformat": 4,
 "nbformat_minor": 2
}
