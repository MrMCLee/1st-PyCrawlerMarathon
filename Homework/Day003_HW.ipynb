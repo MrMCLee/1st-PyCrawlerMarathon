{
 "cells": [
  {
   "cell_type": "markdown",
   "metadata": {},
   "source": [
    "# Python 下載XML檔案與解析\n",
    "\n",
    "\n",
    "* 了解 xml 檔案格式與內容\n",
    "* 能夠利用套件存取 xml 格式的檔案\n"
   ]
  },
  {
   "cell_type": "markdown",
   "metadata": {},
   "source": [
    "## 作業目標\n",
    "\n",
    "* 比較一下範例檔案中的「File I/O」與「xmltodict」讀出來的內容有什麼差異\n",
    "\n",
    "* 根據範例檔案的結果：\n",
    "    1. 請問高雄市有多少地區有溫度資料？\n",
    "    2. 請取出每一個地區所記錄的第一個時間點跟溫度\n",
    "    3. 請取出第一個地區所記錄的每一個時間點跟溫度"
   ]
  },
  {
   "cell_type": "markdown",
   "metadata": {},
   "source": [
    "### 比較一下範例檔案中的「File I/O」與「xmltodict」讀出來的內容有什麼差異\n"
   ]
  },
  {
   "cell_type": "markdown",
   "metadata": {},
   "source": [
    "'''\n",
    "Your Code\n",
    "'''\n",
    "\n",
    "### 「File I/O」\n",
    "* 讀取資料為原始格式(XML)\n",
    "### 「xmltodict」\n",
    "* 讀取出來資料型態為dict,一層一層包。"
   ]
  },
  {
   "cell_type": "markdown",
   "metadata": {},
   "source": [
    "### 根據範例檔案的結果：\n",
    "\n",
    "1. 請問高雄市有多少地區有溫度資料？\n",
    "2. 請取出每一個地區所記錄的第一個時間點跟溫度\n",
    "3. 請取出第一個地區所記錄的每一個時間點跟溫度"
   ]
  },
  {
   "cell_type": "code",
   "execution_count": 46,
   "metadata": {},
   "outputs": [
    {
     "name": "stdout",
     "output_type": "stream",
     "text": [
      "Total = 38\n",
      "['鹽埕區', '鼓山區', '左營區', '楠梓區', '三民區', '新興區', '前金區', '苓雅區', '前鎮區', '旗津區', '小港區', '鳳山區', '林園區', '大寮區', '大樹區', '大社區', '仁武區', '鳥松區', '岡山區', '橋頭區', '燕巢區', '田寮區', '阿蓮區', '路竹區', '湖內區', '茄萣區', '永安區', '彌陀區', '梓官區', '旗山區', '美濃區', '六龜區', '甲仙區', '杉林區', '內門區', '茂林區', '桃源區', '那瑪夏區']\n"
     ]
    }
   ],
   "source": [
    "# 1. 請問高雄市有多少地區有溫度資料？\n",
    "\n",
    "'''\n",
    "Your Code\n",
    "'''\n",
    "import xmltodict\n",
    "# 存取檔案\n",
    "\n",
    "AreaList = []\n",
    "\n",
    "with open(\"./data/64_72hr_CH.xml\", \"r\",encoding=\"utf-8\") as fd:\n",
    "    doc = dict(xmltodict.parse(fd.read()))\n",
    "    KS = doc['cwbopendata']['dataset']['locations']['location']\n",
    "    \n",
    "    for area in KS:\n",
    "        for areaT in area['weatherElement']:\n",
    "            if areaT['description'] == '溫度':\n",
    "                AreaList.append(area['locationName'])\n",
    "\n",
    "print(f'Total = {len(AreaList)}\\n{AreaList}')\n",
    "            \n",
    "        "
   ]
  },
  {
   "cell_type": "code",
   "execution_count": 58,
   "metadata": {},
   "outputs": [
    {
     "name": "stdout",
     "output_type": "stream",
     "text": [
      "鹽埕區 2019-12-12T12:00:00+08:00 溫度 25\n",
      "鼓山區 2019-12-12T12:00:00+08:00 溫度 25\n",
      "左營區 2019-12-12T12:00:00+08:00 溫度 24\n",
      "楠梓區 2019-12-12T12:00:00+08:00 溫度 25\n",
      "三民區 2019-12-12T12:00:00+08:00 溫度 24\n",
      "新興區 2019-12-12T12:00:00+08:00 溫度 25\n",
      "前金區 2019-12-12T12:00:00+08:00 溫度 25\n",
      "苓雅區 2019-12-12T12:00:00+08:00 溫度 25\n",
      "前鎮區 2019-12-12T12:00:00+08:00 溫度 25\n",
      "旗津區 2019-12-12T12:00:00+08:00 溫度 24\n",
      "小港區 2019-12-12T12:00:00+08:00 溫度 26\n",
      "鳳山區 2019-12-12T12:00:00+08:00 溫度 26\n",
      "林園區 2019-12-12T12:00:00+08:00 溫度 26\n",
      "大寮區 2019-12-12T12:00:00+08:00 溫度 26\n",
      "大樹區 2019-12-12T12:00:00+08:00 溫度 27\n",
      "大社區 2019-12-12T12:00:00+08:00 溫度 26\n",
      "仁武區 2019-12-12T12:00:00+08:00 溫度 25\n",
      "鳥松區 2019-12-12T12:00:00+08:00 溫度 26\n",
      "岡山區 2019-12-12T12:00:00+08:00 溫度 25\n",
      "橋頭區 2019-12-12T12:00:00+08:00 溫度 26\n",
      "燕巢區 2019-12-12T12:00:00+08:00 溫度 26\n",
      "田寮區 2019-12-12T12:00:00+08:00 溫度 26\n",
      "阿蓮區 2019-12-12T12:00:00+08:00 溫度 25\n",
      "路竹區 2019-12-12T12:00:00+08:00 溫度 26\n",
      "湖內區 2019-12-12T12:00:00+08:00 溫度 24\n",
      "茄萣區 2019-12-12T12:00:00+08:00 溫度 24\n",
      "永安區 2019-12-12T12:00:00+08:00 溫度 24\n",
      "彌陀區 2019-12-12T12:00:00+08:00 溫度 24\n",
      "梓官區 2019-12-12T12:00:00+08:00 溫度 24\n",
      "旗山區 2019-12-12T12:00:00+08:00 溫度 26\n",
      "美濃區 2019-12-12T12:00:00+08:00 溫度 26\n",
      "六龜區 2019-12-12T12:00:00+08:00 溫度 25\n",
      "甲仙區 2019-12-12T12:00:00+08:00 溫度 26\n",
      "杉林區 2019-12-12T12:00:00+08:00 溫度 27\n",
      "內門區 2019-12-12T12:00:00+08:00 溫度 26\n",
      "茂林區 2019-12-12T12:00:00+08:00 溫度 25\n",
      "桃源區 2019-12-12T12:00:00+08:00 溫度 24\n",
      "那瑪夏區 2019-12-12T12:00:00+08:00 溫度 22\n"
     ]
    }
   ],
   "source": [
    "# 2. 請取出每一個地區所記錄的第一個時間點跟溫度\n",
    "\n",
    "'''\n",
    "Your Code\n",
    "'''\n",
    "import xmltodict\n",
    "# 存取檔案\n",
    "\n",
    "\n",
    "with open(\"./data/64_72hr_CH.xml\", \"r\",encoding=\"utf-8\") as fd:\n",
    "    doc = dict(xmltodict.parse(fd.read()))\n",
    "    KS = doc['cwbopendata']['dataset']['locations']['location']\n",
    "    \n",
    "    for area in KS:\n",
    "        for areaT in area['weatherElement']:\n",
    "            if areaT['description'] == '溫度':\n",
    "                #print(f'Area:{area['locationName']}, Time:{area['Time'][0]['dataTime']}, Temperature:{area['Time'][0]['dataTime']}')\n",
    "                print(area['locationName'], areaT['time'][0]['dataTime'], areaT['description'],  areaT['time'][0]['elementValue']['value'])"
   ]
  },
  {
   "cell_type": "code",
   "execution_count": 80,
   "metadata": {},
   "outputs": [
    {
     "name": "stdout",
     "output_type": "stream",
     "text": [
      "鹽埕區 2019-12-12T12:00:00+08:00 攝氏度 25\n",
      "鹽埕區 2019-12-12T15:00:00+08:00 攝氏度 25\n",
      "鹽埕區 2019-12-12T18:00:00+08:00 攝氏度 23\n",
      "鹽埕區 2019-12-12T21:00:00+08:00 攝氏度 21\n",
      "鹽埕區 2019-12-13T00:00:00+08:00 攝氏度 20\n",
      "鹽埕區 2019-12-13T03:00:00+08:00 攝氏度 19\n",
      "鹽埕區 2019-12-13T06:00:00+08:00 攝氏度 18\n",
      "鹽埕區 2019-12-13T09:00:00+08:00 攝氏度 20\n",
      "鹽埕區 2019-12-13T12:00:00+08:00 攝氏度 26\n",
      "鹽埕區 2019-12-13T15:00:00+08:00 攝氏度 27\n",
      "鹽埕區 2019-12-13T18:00:00+08:00 攝氏度 25\n",
      "鹽埕區 2019-12-13T21:00:00+08:00 攝氏度 22\n",
      "鹽埕區 2019-12-14T00:00:00+08:00 攝氏度 21\n",
      "鹽埕區 2019-12-14T03:00:00+08:00 攝氏度 20\n",
      "鹽埕區 2019-12-14T06:00:00+08:00 攝氏度 19\n",
      "鹽埕區 2019-12-14T09:00:00+08:00 攝氏度 20\n",
      "鹽埕區 2019-12-14T12:00:00+08:00 攝氏度 25\n",
      "鹽埕區 2019-12-14T15:00:00+08:00 攝氏度 25\n",
      "鹽埕區 2019-12-14T18:00:00+08:00 攝氏度 24\n",
      "鹽埕區 2019-12-14T21:00:00+08:00 攝氏度 22\n",
      "鹽埕區 2019-12-15T00:00:00+08:00 攝氏度 21\n",
      "鹽埕區 2019-12-15T03:00:00+08:00 攝氏度 20\n",
      "鹽埕區 2019-12-15T06:00:00+08:00 攝氏度 20\n",
      "鹽埕區 2019-12-15T09:00:00+08:00 攝氏度 22\n"
     ]
    }
   ],
   "source": [
    "# 3. 請取出第一個地區所記錄的每一個時間點跟溫度\n",
    "\n",
    "'''\n",
    "Your Code\n",
    "'''\n",
    "with open(\"./data/64_72hr_CH.xml\", \"r\",encoding=\"utf-8\") as fd:\n",
    "    doc = dict(xmltodict.parse(fd.read()))\n",
    "    KS = doc['cwbopendata']['dataset']['locations']['location'][0]\n",
    "    WeatherData = KS['weatherElement'][0]['time']\n",
    "    for alldata in WeatherData:\n",
    "        print(KS['locationName'], alldata['dataTime'], alldata['elementValue']['measures'], alldata['elementValue']['value'])"
   ]
  },
  {
   "cell_type": "code",
   "execution_count": null,
   "metadata": {},
   "outputs": [],
   "source": []
  }
 ],
 "metadata": {
  "kernelspec": {
   "display_name": "Python 3",
   "language": "python",
   "name": "python3"
  },
  "language_info": {
   "codemirror_mode": {
    "name": "ipython",
    "version": 3
   },
   "file_extension": ".py",
   "mimetype": "text/x-python",
   "name": "python",
   "nbconvert_exporter": "python",
   "pygments_lexer": "ipython3",
   "version": "3.6.5"
  }
 },
 "nbformat": 4,
 "nbformat_minor": 2
}
